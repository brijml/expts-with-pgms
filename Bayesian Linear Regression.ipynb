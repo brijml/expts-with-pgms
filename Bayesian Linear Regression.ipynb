{
 "cells": [
  {
   "cell_type": "code",
   "execution_count": 24,
   "metadata": {},
   "outputs": [],
   "source": [
    "import pymc3 as pm\n",
    "import pandas as pd\n",
    "import matplotlib.pyplot as plt\n",
    "\n",
    "%matplotlib inline"
   ]
  },
  {
   "cell_type": "code",
   "execution_count": 5,
   "metadata": {},
   "outputs": [],
   "source": [
    "data = pd.read_csv('data/house-prices-advanced-regression-techniques/train.csv')\n",
    "data = data.dropna(axis=1)"
   ]
  },
  {
   "cell_type": "code",
   "execution_count": 27,
   "metadata": {},
   "outputs": [
    {
     "data": {
      "image/png": "[encoded data removed]",
      "text/plain": [
       "<matplotlib.figure.Figure at 0x7f0a883b3ac8>"
      ]
     },
     "metadata": {},
     "output_type": "display_data"
    }
   ],
   "source": [
    "p = plt.hist(data['SalePrice'], bins = 14)"
   ]
  },
  {
   "cell_type": "code",
   "execution_count": 38,
   "metadata": {
    "scrolled": true
   },
   "outputs": [
    {
     "data": {
      "text/plain": [
       "KitchenAbvGr    -0.135907\n",
       "EnclosedPorch   -0.128578\n",
       "MSSubClass      -0.084284\n",
       "OverallCond     -0.077856\n",
       "YrSold          -0.028923\n",
       "LowQualFinSF    -0.025606\n",
       "Id              -0.021917\n",
       "MiscVal         -0.021190\n",
       "BsmtHalfBath    -0.016844\n",
       "BsmtFinSF2      -0.011378\n",
       "3SsnPorch        0.044584\n",
       "MoSold           0.046432\n",
       "PoolArea         0.092404\n",
       "ScreenPorch      0.111447\n",
       "BedroomAbvGr     0.168213\n",
       "BsmtUnfSF        0.214479\n",
       "BsmtFullBath     0.227122\n",
       "LotArea          0.263843\n",
       "HalfBath         0.284108\n",
       "OpenPorchSF      0.315856\n",
       "2ndFlrSF         0.319334\n",
       "WoodDeckSF       0.324413\n",
       "BsmtFinSF1       0.386420\n",
       "Fireplaces       0.466929\n",
       "YearRemodAdd     0.507101\n",
       "YearBuilt        0.522897\n",
       "TotRmsAbvGrd     0.533723\n",
       "FullBath         0.560664\n",
       "1stFlrSF         0.605852\n",
       "TotalBsmtSF      0.613581\n",
       "GarageArea       0.623431\n",
       "GarageCars       0.640409\n",
       "GrLivArea        0.708624\n",
       "OverallQual      0.790982\n",
       "SalePrice        1.000000\n",
       "Name: SalePrice, dtype: float64"
      ]
     },
     "execution_count": 38,
     "metadata": {},
     "output_type": "execute_result"
    }
   ],
   "source": [
    "data.corr()['SalePrice'].sort_values()"
   ]
  },
  {
   "cell_type": "code",
   "execution_count": 56,
   "metadata": {},
   "outputs": [
    {
     "data": {
      "text/plain": [
       "<matplotlib.collections.PathCollection at 0x7f0a836a6cf8>"
      ]
     },
     "execution_count": 56,
     "metadata": {},
     "output_type": "execute_result"
    },
    {
     "data": {
      "image/png": "[encoded data removed]",
      "text/plain": [
       "<matplotlib.figure.Figure at 0x7f0a83713400>"
      ]
     },
     "metadata": {},
     "output_type": "display_data"
    }
   ],
   "source": [
    "fig = plt.figure(figsize=(20,5))\n",
    "ax = fig.add_subplot(121)\n",
    "ax.set_xlabel('PoolArea')\n",
    "ax.set_ylabel('Price')\n",
    "plt.scatter(x=data.PoolArea, y=data.SalePrice)\n",
    "\n",
    "ax = fig.add_subplot(122)\n",
    "ax.set_xlabel('OverallArea')\n",
    "ax.set_ylabel('Price')\n",
    "plt.scatter(x=data.OverallQual, y=data.SalePrice)"
   ]
  },
  {
   "cell_type": "code",
   "execution_count": 47,
   "metadata": {},
   "outputs": [
    {
     "data": {
      "text/plain": [
       "ExterQual_TA            -0.589044\n",
       "KitchenQual_TA          -0.519298\n",
       "Foundation_CBlock       -0.343263\n",
       "HeatingQC_TA            -0.312677\n",
       "MSZoning_RM             -0.288065\n",
       "LotShape_Reg            -0.267672\n",
       "CentralAir_N            -0.251328\n",
       "SaleType_WD             -0.242598\n",
       "RoofStyle_Gable         -0.224744\n",
       "PavedDrive_N            -0.212630\n",
       "Foundation_BrkTil       -0.204117\n",
       "Neighborhood_OldTown    -0.192189\n",
       "Neighborhood_NAmes      -0.188513\n",
       "Neighborhood_Edwards    -0.179949\n",
       "Exterior1st_MetalSd     -0.167068\n",
       "Neighborhood_IDOTRR     -0.164056\n",
       "HouseStyle_1.5Fin       -0.163466\n",
       "Exterior2nd_MetalSd     -0.162389\n",
       "Exterior2nd_Wd Sdng     -0.161800\n",
       "Exterior1st_Wd Sdng     -0.158619\n",
       "KitchenQual_Fa          -0.157199\n",
       "SaleCondition_Normal    -0.153990\n",
       "Neighborhood_BrkSide    -0.143648\n",
       "ExterCond_Fa            -0.137914\n",
       "HeatingQC_Gd            -0.134722\n",
       "HeatingQC_Fa            -0.133758\n",
       "Neighborhood_Sawyer     -0.128394\n",
       "Foundation_Slab         -0.119740\n",
       "SaleCondition_Abnorml   -0.118069\n",
       "Condition1_Feedr        -0.117329\n",
       "                           ...   \n",
       "Functional_Typ           0.116462\n",
       "LandContour_HLS          0.120014\n",
       "LotShape_IR2             0.126096\n",
       "Neighborhood_Timber      0.126236\n",
       "Exterior2nd_CmentBd      0.128183\n",
       "Exterior1st_CemntBd      0.133492\n",
       "BldgType_1Fam            0.137483\n",
       "Neighborhood_Somerst     0.140058\n",
       "LotConfig_CulDSac        0.141818\n",
       "RoofMatl_WdShngl         0.169324\n",
       "Neighborhood_StoneBr     0.215363\n",
       "LotShape_IR1             0.223284\n",
       "PavedDrive_Y             0.231968\n",
       "RoofStyle_Hip            0.235897\n",
       "HouseStyle_2Story        0.242880\n",
       "MSZoning_RL              0.245063\n",
       "CentralAir_Y             0.251328\n",
       "Exterior1st_VinylSd      0.305009\n",
       "Exterior2nd_VinylSd      0.306389\n",
       "KitchenQual_Gd           0.321641\n",
       "Neighborhood_NoRidge     0.330424\n",
       "SaleCondition_Partial    0.352060\n",
       "SaleType_New             0.357509\n",
       "Neighborhood_NridgHt     0.402149\n",
       "HeatingQC_Ex             0.434543\n",
       "ExterQual_Ex             0.451164\n",
       "ExterQual_Gd             0.452466\n",
       "Foundation_PConc         0.497734\n",
       "KitchenQual_Ex           0.504094\n",
       "Grade                    1.000000\n",
       "Name: Grade, Length: 183, dtype: float64"
      ]
     },
     "execution_count": 47,
     "metadata": {},
     "output_type": "execute_result"
    }
   ],
   "source": [
    "category_df = data.select_dtypes('object')\n",
    "dummy_df = pd.get_dummies(category_df)\n",
    "dummy_df['SalePrice'] = data['SalePrice']\n",
    "dummy_df.corr()['SalePrice'].sort_values()"
   ]
  },
  {
   "cell_type": "code",
   "execution_count": 76,
   "metadata": {},
   "outputs": [],
   "source": [
    "train_dummy_df = pd.get_dummies(category_df[['ExterQual', 'KitchenQual', 'Foundation']])\n",
    "train_numerical_df = data[['OverallQual', 'GrLivArea', 'GarageArea', 'KitchenAbvGr', 'EnclosedPorch', 'MSSubClass', 'SalePrice']]\n",
    "train_data = pd.concat([train_numerical_df, train_dummy_df], axis=1)"
   ]
  },
  {
   "cell_type": "code",
   "execution_count": null,
   "metadata": {},
   "outputs": [],
   "source": []
  }
 ],
 "metadata": {
  "kernelspec": {
   "display_name": "Python 3",
   "language": "python",
   "name": "python3"
  },
  "language_info": {
   "codemirror_mode": {
    "name": "ipython",
    "version": 3
   },
   "file_extension": ".py",
   "mimetype": "text/x-python",
   "name": "python",
   "nbconvert_exporter": "python",
   "pygments_lexer": "ipython3",
   "version": "3.6.4"
  }
 },
 "nbformat": 4,
 "nbformat_minor": 2
}
